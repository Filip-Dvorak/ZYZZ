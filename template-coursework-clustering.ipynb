{
 "cells": [
  {
   "cell_type": "markdown",
   "id": "9475831f-922c-4f1c-85bd-78c280d980d1",
   "metadata": {},
   "source": [
    "# Template for coursework - Part 2: Clustering"
   ]
  },
  {
   "cell_type": "code",
   "execution_count": 1,
   "id": "ef1eee9e-0674-4f96-a642-fddf0f96820a",
   "metadata": {},
   "outputs": [],
   "source": [
    "# import of libraries\n",
    "import pandas as pd\n",
    "from sklearn.cluster import KMeans\n",
    "import numpy as np\n",
    "import matplotlib.pyplot as plt\n",
    "from yellowbrick.cluster import KElbowVisualizer\n",
    "from sklearn.preprocessing import MinMaxScaler\n",
    "from sklearn.metrics import silhouette_score\n",
    "from sklearn.decomposition import PCA\n",
    "from scipy.cluster.hierarchy import dendrogram, linkage\n",
    "from scipy.cluster.hierarchy import fcluster\n",
    "from sklearn.metrics import adjusted_rand_score\n",
    "\n"
   ]
  },
  {
   "cell_type": "markdown",
   "id": "c6babbb1-c6e7-4901-b12b-2273e3494dfb",
   "metadata": {},
   "source": [
    "## Team identification"
   ]
  },
  {
   "cell_type": "markdown",
   "id": "177dd029",
   "metadata": {},
   "source": [
    "* seminar day and time\n",
    "ST 9:15\n",
    "* team number\n",
    "Team D\n",
    "* names of team members\n",
    "Michal Červinka, Filip Dvořák, Tomáš Jareš, Dominik Šimon"
   ]
  },
  {
   "cell_type": "markdown",
   "id": "7ba4a4a6-0a2c-4b28-9ef1-f94c0a747ce6",
   "metadata": {},
   "source": [
    "# Introduction"
   ]
  },
  {
   "cell_type": "markdown",
   "id": "f6d34c78",
   "metadata": {},
   "source": [
    "1.\tDescribe the business value of addressing this problem with machine learning.\n",
    "\n",
    "    Použití strojového učení na dataset diabetu může výrazně přispět k zlepšení zdravotní péče. Umožňuje časnou detekci a diagnostiku diabetu, vytváření personalizovaných léčebných plánů, předpovídání pravděpodobnosti komplikací, stratifikaci pacientů na základě rizika a efektivní řízení a sledování nemoci. Tímto způsobem může strojové učení zlepšit klinické \n",
    "    rozhodování, výsledky pacientů a přispět k efektivnějšímu poskytování zdravotní péče.\n",
    "\n",
    "2.\tProvide the link to the source of the data.\n",
    "    https://www.kaggle.com/datasets/iammustafatz/diabetes-prediction-dataset"
   ]
  },
  {
   "cell_type": "markdown",
   "id": "1bd80a6d-a078-4807-ac77-e2d7910fa741",
   "metadata": {},
   "source": [
    "## Customization"
   ]
  },
  {
   "cell_type": "markdown",
   "id": "a404f536",
   "metadata": {},
   "source": [
    "//TODO\n",
    "\n",
    "1.\tWhat is the *target attribute*\n",
    "2.\tWhat is the *instance of interest*   The instance can be identified, for example, by an id.\n",
    "3.\tChoose an *attribute of interest* \n",
    "5.\tShow *Cost matrix* consisting of a cost of a false positive, false negative, true positive and true negative. Note that cost of true positive and true negative is recommended to be zero."
   ]
  },
  {
   "cell_type": "markdown",
   "id": "6feaf889-6fd2-4371-a7c0-3b8e23d21a81",
   "metadata": {},
   "source": [
    "# Data preprocessing"
   ]
  },
  {
   "cell_type": "markdown",
   "id": "36c92e0f-b7e7-4120-9c6d-2248ef8d6bb0",
   "metadata": {},
   "source": [
    "## Preprocessing for unsupervised machine learning "
   ]
  },
  {
   "cell_type": "markdown",
   "id": "d1a4f26f-8ffc-4bed-8870-23c3fe627420",
   "metadata": {},
   "source": [
    "* As clustering is  performed only on the chosen subset of data, remove data not in the subgroup\n",
    "* Perform min-max feature rescaling\n",
    "* remove target attribute from clustering\n",
    "* do *not* create train-test splits"
   ]
  },
  {
   "cell_type": "code",
   "execution_count": 2,
   "id": "f0f6adec",
   "metadata": {},
   "outputs": [
    {
     "name": "stdout",
     "output_type": "stream",
     "text": [
      "    gender   age  hypertension  heart_disease smoking_history    bmi  \\\n",
      "0   Female  80.0             0              1           never  25.19   \n",
      "1   Female  54.0             0              0         No Info  27.32   \n",
      "15    Male  78.0             0              0         No Info  27.32   \n",
      "23  Female  72.0             0              1          former  27.94   \n",
      "26    Male  67.0             0              1     not current  27.32   \n",
      "\n",
      "    HbA1c_level  blood_glucose_level  \n",
      "0           6.6                  140  \n",
      "1           6.6                   80  \n",
      "15          6.6                  126  \n",
      "23          6.5                  130  \n",
      "26          6.5                  200  \n",
      "smoking_history\n",
      "never          4687\n",
      "former         2268\n",
      "current        1105\n",
      "not current    1023\n",
      "ever            681\n",
      "Name: count, dtype: int64\n",
      "               age  hypertension  heart_disease          bmi  HbA1c_level  \\\n",
      "count  9764.000000   9764.000000    9764.000000  9764.000000  9764.000000   \n",
      "mean      0.503448      0.186604       0.119521     0.288974     0.193093   \n",
      "std       0.323033      0.389613       0.324417     0.102869     0.317214   \n",
      "min       0.000000      0.000000       0.000000     0.000000     0.000000   \n",
      "25%       0.233333      0.000000       0.000000     0.241346     0.000000   \n",
      "50%       0.466667      0.000000       0.000000     0.248625     0.040000   \n",
      "75%       0.800000      0.000000       0.000000     0.333549     0.200000   \n",
      "max       1.000000      1.000000       1.000000     1.000000     1.000000   \n",
      "\n",
      "       blood_glucose_level  \n",
      "count          9764.000000  \n",
      "mean              0.361786  \n",
      "std               0.250963  \n",
      "min               0.000000  \n",
      "25%               0.227273  \n",
      "50%               0.340909  \n",
      "75%               0.363636  \n",
      "max               1.000000  \n"
     ]
    },
    {
     "name": "stderr",
     "output_type": "stream",
     "text": [
      "C:\\Users\\cervi\\AppData\\Local\\Temp\\ipykernel_24952\\637956738.py:18: FutureWarning: ChainedAssignmentError: behaviour will change in pandas 3.0!\n",
      "You are setting values through chained assignment. Currently this works in certain cases, but when using Copy-on-Write (which will become the default behaviour in pandas 3.0) this will never work to update the original DataFrame or Series, because the intermediate object on which we are setting values will behave as a copy.\n",
      "A typical example is when you are setting values in a column of a DataFrame, like:\n",
      "\n",
      "df[\"col\"][row_indexer] = value\n",
      "\n",
      "Use `df.loc[row_indexer, \"col\"] = values` instead, to perform the assignment in a single step and ensure this keeps updating the original `df`.\n",
      "\n",
      "See the caveats in the documentation: https://pandas.pydata.org/pandas-docs/stable/user_guide/indexing.html#returning-a-view-versus-a-copy\n",
      "\n",
      "  X['smoking_history'].loc[X['smoking_history'] == 'No Info'] = random\n"
     ]
    }
   ],
   "source": [
    "data = pd.read_csv(\"diabetes_prediction_dataset.csv\")\n",
    "data\n",
    "\n",
    "#Vybrání dat bez cílové proměnné\n",
    "X = data.drop('diabetes', axis=1)\n",
    "\n",
    "#Vytvoření subsetu\n",
    "X=X[X['age']>=50]\n",
    "X=X[X['HbA1c_level']>=6.5]\n",
    "print(X.head())\n",
    "\n",
    "#Doplnění chbějících pozorování pro smoking history\n",
    "value_counts = X[X['smoking_history'] != 'No Info']['smoking_history'].value_counts()\n",
    "total_count = value_counts.sum()\n",
    "distribution = (X['smoking_history'].value_counts() / total_count).drop('No Info')\n",
    "random= np.random.choice(distribution.index,X[X['smoking_history'] == 'No Info'].shape[0] ,p=distribution.values)\n",
    "\n",
    "X['smoking_history'].loc[X['smoking_history'] == 'No Info'] = random\n",
    "\n",
    "\n",
    "#Odebrání řádků, kde je atribut gender \"Other\"\n",
    "X = X.drop(X[X['gender'] == 'Other'].index)\n",
    "\n",
    "#Převedení kategoriálních atributů na binární\n",
    "X = pd.get_dummies(X, columns=['gender'])\n",
    "print(X['smoking_history'].value_counts())\n",
    "X = pd.get_dummies(X, columns=['smoking_history'])\n",
    "\n",
    "\n",
    "\n",
    "#MinMax scaling\n",
    "scaler = MinMaxScaler()\n",
    "X[['age', 'bmi', 'HbA1c_level', 'blood_glucose_level']] = scaler.fit_transform(X[['age', 'bmi', 'HbA1c_level', 'blood_glucose_level']])\n",
    "print(X.describe()) #tabulka pro kontrolu min a max value \n",
    "\n"
   ]
  },
  {
   "cell_type": "markdown",
   "id": "2af97898-27c3-4c23-b183-999f648695d0",
   "metadata": {},
   "source": [
    "## Modeling and visualization"
   ]
  },
  {
   "cell_type": "markdown",
   "id": "0bec3981-349b-4d6a-8ad3-4125e7f0268c",
   "metadata": {},
   "source": [
    "* do not include target attribute among variables for clustering"
   ]
  },
  {
   "cell_type": "markdown",
   "id": "1d7affee-be4e-4b35-a7d2-31be4bb45ccd",
   "metadata": {},
   "source": [
    "### Clustering 1 (k-means)"
   ]
  },
  {
   "cell_type": "markdown",
   "id": "33f6674b-e1d0-495c-87f8-768302b9488c",
   "metadata": {},
   "source": [
    "* Use the elbow curve graph to find the best value of inertia (wcss)\n",
    "* It is recommended to use two measures (such as the Silhouette score and the Inertia) and compare the resulting number of clusters based on their best values.\n",
    "* Create a scatter plot for each cluster and use color"
   ]
  },
  {
   "cell_type": "code",
   "execution_count": 3,
   "id": "48000ebc",
   "metadata": {},
   "outputs": [
    {
     "data": {
      "image/png": "[encoded data removed]",
      "text/plain": [
       "<Figure size 800x550 with 2 Axes>"
      ]
     },
     "metadata": {},
     "output_type": "display_data"
    },
    {
     "data": {
      "text/html": [
       "<style>#sk-container-id-1 {\n",
       "  /* Definition of color scheme common for light and dark mode */\n",
       "  --sklearn-color-text: black;\n",
       "  --sklearn-color-line: gray;\n",
       "  /* Definition of color scheme for unfitted estimators */\n",
       "  --sklearn-color-unfitted-level-0: #fff5e6;\n",
       "  --sklearn-color-unfitted-level-1: #f6e4d2;\n",
       "  --sklearn-color-unfitted-level-2: #ffe0b3;\n",
       "  --sklearn-color-unfitted-level-3: chocolate;\n",
       "  /* Definition of color scheme for fitted estimators */\n",
       "  --sklearn-color-fitted-level-0: #f0f8ff;\n",
       "  --sklearn-color-fitted-level-1: #d4ebff;\n",
       "  --sklearn-color-fitted-level-2: #b3dbfd;\n",
       "  --sklearn-color-fitted-level-3: cornflowerblue;\n",
       "\n",
       "  /* Specific color for light theme */\n",
       "  --sklearn-color-text-on-default-background: var(--sg-text-color, var(--theme-code-foreground, var(--jp-content-font-color1, black)));\n",
       "  --sklearn-color-background: var(--sg-background-color, var(--theme-background, var(--jp-layout-color0, white)));\n",
       "  --sklearn-color-border-box: var(--sg-text-color, var(--theme-code-foreground, var(--jp-content-font-color1, black)));\n",
       "  --sklearn-color-icon: #696969;\n",
       "\n",
       "  @media (prefers-color-scheme: dark) {\n",
       "    /* Redefinition of color scheme for dark theme */\n",
       "    --sklearn-color-text-on-default-background: var(--sg-text-color, var(--theme-code-foreground, var(--jp-content-font-color1, white)));\n",
       "    --sklearn-color-background: var(--sg-background-color, var(--theme-background, var(--jp-layout-color0, #111)));\n",
       "    --sklearn-color-border-box: var(--sg-text-color, var(--theme-code-foreground, var(--jp-content-font-color1, white)));\n",
       "    --sklearn-color-icon: #878787;\n",
       "  }\n",
       "}\n",
       "\n",
       "#sk-container-id-1 {\n",
       "  color: var(--sklearn-color-text);\n",
       "}\n",
       "\n",
       "#sk-container-id-1 pre {\n",
       "  padding: 0;\n",
       "}\n",
       "\n",
       "#sk-container-id-1 input.sk-hidden--visually {\n",
       "  border: 0;\n",
       "  clip: rect(1px 1px 1px 1px);\n",
       "  clip: rect(1px, 1px, 1px, 1px);\n",
       "  height: 1px;\n",
       "  margin: -1px;\n",
       "  overflow: hidden;\n",
       "  padding: 0;\n",
       "  position: absolute;\n",
       "  width: 1px;\n",
       "}\n",
       "\n",
       "#sk-container-id-1 div.sk-dashed-wrapped {\n",
       "  border: 1px dashed var(--sklearn-color-line);\n",
       "  margin: 0 0.4em 0.5em 0.4em;\n",
       "  box-sizing: border-box;\n",
       "  padding-bottom: 0.4em;\n",
       "  background-color: var(--sklearn-color-background);\n",
       "}\n",
       "\n",
       "#sk-container-id-1 div.sk-container {\n",
       "  /* jupyter's `normalize.less` sets `[hidden] { display: none; }`\n",
       "     but bootstrap.min.css set `[hidden] { display: none !important; }`\n",
       "     so we also need the `!important` here to be able to override the\n",
       "     default hidden behavior on the sphinx rendered scikit-learn.org.\n",
       "     See: https://github.com/scikit-learn/scikit-learn/issues/21755 */\n",
       "  display: inline-block !important;\n",
       "  position: relative;\n",
       "}\n",
       "\n",
       "#sk-container-id-1 div.sk-text-repr-fallback {\n",
       "  display: none;\n",
       "}\n",
       "\n",
       "div.sk-parallel-item,\n",
       "div.sk-serial,\n",
       "div.sk-item {\n",
       "  /* draw centered vertical line to link estimators */\n",
       "  background-image: linear-gradient(var(--sklearn-color-text-on-default-background), var(--sklearn-color-text-on-default-background));\n",
       "  background-size: 2px 100%;\n",
       "  background-repeat: no-repeat;\n",
       "  background-position: center center;\n",
       "}\n",
       "\n",
       "/* Parallel-specific style estimator block */\n",
       "\n",
       "#sk-container-id-1 div.sk-parallel-item::after {\n",
       "  content: \"\";\n",
       "  width: 100%;\n",
       "  border-bottom: 2px solid var(--sklearn-color-text-on-default-background);\n",
       "  flex-grow: 1;\n",
       "}\n",
       "\n",
       "#sk-container-id-1 div.sk-parallel {\n",
       "  display: flex;\n",
       "  align-items: stretch;\n",
       "  justify-content: center;\n",
       "  background-color: var(--sklearn-color-background);\n",
       "  position: relative;\n",
       "}\n",
       "\n",
       "#sk-container-id-1 div.sk-parallel-item {\n",
       "  display: flex;\n",
       "  flex-direction: column;\n",
       "}\n",
       "\n",
       "#sk-container-id-1 div.sk-parallel-item:first-child::after {\n",
       "  align-self: flex-end;\n",
       "  width: 50%;\n",
       "}\n",
       "\n",
       "#sk-container-id-1 div.sk-parallel-item:last-child::after {\n",
       "  align-self: flex-start;\n",
       "  width: 50%;\n",
       "}\n",
       "\n",
       "#sk-container-id-1 div.sk-parallel-item:only-child::after {\n",
       "  width: 0;\n",
       "}\n",
       "\n",
       "/* Serial-specific style estimator block */\n",
       "\n",
       "#sk-container-id-1 div.sk-serial {\n",
       "  display: flex;\n",
       "  flex-direction: column;\n",
       "  align-items: center;\n",
       "  background-color: var(--sklearn-color-background);\n",
       "  padding-right: 1em;\n",
       "  padding-left: 1em;\n",
       "}\n",
       "\n",
       "\n",
       "/* Toggleable style: style used for estimator/Pipeline/ColumnTransformer box that is\n",
       "clickable and can be expanded/collapsed.\n",
       "- Pipeline and ColumnTransformer use this feature and define the default style\n",
       "- Estimators will overwrite some part of the style using the `sk-estimator` class\n",
       "*/\n",
       "\n",
       "/* Pipeline and ColumnTransformer style (default) */\n",
       "\n",
       "#sk-container-id-1 div.sk-toggleable {\n",
       "  /* Default theme specific background. It is overwritten whether we have a\n",
       "  specific estimator or a Pipeline/ColumnTransformer */\n",
       "  background-color: var(--sklearn-color-background);\n",
       "}\n",
       "\n",
       "/* Toggleable label */\n",
       "#sk-container-id-1 label.sk-toggleable__label {\n",
       "  cursor: pointer;\n",
       "  display: block;\n",
       "  width: 100%;\n",
       "  margin-bottom: 0;\n",
       "  padding: 0.5em;\n",
       "  box-sizing: border-box;\n",
       "  text-align: center;\n",
       "}\n",
       "\n",
       "#sk-container-id-1 label.sk-toggleable__label-arrow:before {\n",
       "  /* Arrow on the left of the label */\n",
       "  content: \"▸\";\n",
       "  float: left;\n",
       "  margin-right: 0.25em;\n",
       "  color: var(--sklearn-color-icon);\n",
       "}\n",
       "\n",
       "#sk-container-id-1 label.sk-toggleable__label-arrow:hover:before {\n",
       "  color: var(--sklearn-color-text);\n",
       "}\n",
       "\n",
       "/* Toggleable content - dropdown */\n",
       "\n",
       "#sk-container-id-1 div.sk-toggleable__content {\n",
       "  max-height: 0;\n",
       "  max-width: 0;\n",
       "  overflow: hidden;\n",
       "  text-align: left;\n",
       "  /* unfitted */\n",
       "  background-color: var(--sklearn-color-unfitted-level-0);\n",
       "}\n",
       "\n",
       "#sk-container-id-1 div.sk-toggleable__content.fitted {\n",
       "  /* fitted */\n",
       "  background-color: var(--sklearn-color-fitted-level-0);\n",
       "}\n",
       "\n",
       "#sk-container-id-1 div.sk-toggleable__content pre {\n",
       "  margin: 0.2em;\n",
       "  border-radius: 0.25em;\n",
       "  color: var(--sklearn-color-text);\n",
       "  /* unfitted */\n",
       "  background-color: var(--sklearn-color-unfitted-level-0);\n",
       "}\n",
       "\n",
       "#sk-container-id-1 div.sk-toggleable__content.fitted pre {\n",
       "  /* unfitted */\n",
       "  background-color: var(--sklearn-color-fitted-level-0);\n",
       "}\n",
       "\n",
       "#sk-container-id-1 input.sk-toggleable__control:checked~div.sk-toggleable__content {\n",
       "  /* Expand drop-down */\n",
       "  max-height: 200px;\n",
       "  max-width: 100%;\n",
       "  overflow: auto;\n",
       "}\n",
       "\n",
       "#sk-container-id-1 input.sk-toggleable__control:checked~label.sk-toggleable__label-arrow:before {\n",
       "  content: \"▾\";\n",
       "}\n",
       "\n",
       "/* Pipeline/ColumnTransformer-specific style */\n",
       "\n",
       "#sk-container-id-1 div.sk-label input.sk-toggleable__control:checked~label.sk-toggleable__label {\n",
       "  color: var(--sklearn-color-text);\n",
       "  background-color: var(--sklearn-color-unfitted-level-2);\n",
       "}\n",
       "\n",
       "#sk-container-id-1 div.sk-label.fitted input.sk-toggleable__control:checked~label.sk-toggleable__label {\n",
       "  background-color: var(--sklearn-color-fitted-level-2);\n",
       "}\n",
       "\n",
       "/* Estimator-specific style */\n",
       "\n",
       "/* Colorize estimator box */\n",
       "#sk-container-id-1 div.sk-estimator input.sk-toggleable__control:checked~label.sk-toggleable__label {\n",
       "  /* unfitted */\n",
       "  background-color: var(--sklearn-color-unfitted-level-2);\n",
       "}\n",
       "\n",
       "#sk-container-id-1 div.sk-estimator.fitted input.sk-toggleable__control:checked~label.sk-toggleable__label {\n",
       "  /* fitted */\n",
       "  background-color: var(--sklearn-color-fitted-level-2);\n",
       "}\n",
       "\n",
       "#sk-container-id-1 div.sk-label label.sk-toggleable__label,\n",
       "#sk-container-id-1 div.sk-label label {\n",
       "  /* The background is the default theme color */\n",
       "  color: var(--sklearn-color-text-on-default-background);\n",
       "}\n",
       "\n",
       "/* On hover, darken the color of the background */\n",
       "#sk-container-id-1 div.sk-label:hover label.sk-toggleable__label {\n",
       "  color: var(--sklearn-color-text);\n",
       "  background-color: var(--sklearn-color-unfitted-level-2);\n",
       "}\n",
       "\n",
       "/* Label box, darken color on hover, fitted */\n",
       "#sk-container-id-1 div.sk-label.fitted:hover label.sk-toggleable__label.fitted {\n",
       "  color: var(--sklearn-color-text);\n",
       "  background-color: var(--sklearn-color-fitted-level-2);\n",
       "}\n",
       "\n",
       "/* Estimator label */\n",
       "\n",
       "#sk-container-id-1 div.sk-label label {\n",
       "  font-family: monospace;\n",
       "  font-weight: bold;\n",
       "  display: inline-block;\n",
       "  line-height: 1.2em;\n",
       "}\n",
       "\n",
       "#sk-container-id-1 div.sk-label-container {\n",
       "  text-align: center;\n",
       "}\n",
       "\n",
       "/* Estimator-specific */\n",
       "#sk-container-id-1 div.sk-estimator {\n",
       "  font-family: monospace;\n",
       "  border: 1px dotted var(--sklearn-color-border-box);\n",
       "  border-radius: 0.25em;\n",
       "  box-sizing: border-box;\n",
       "  margin-bottom: 0.5em;\n",
       "  /* unfitted */\n",
       "  background-color: var(--sklearn-color-unfitted-level-0);\n",
       "}\n",
       "\n",
       "#sk-container-id-1 div.sk-estimator.fitted {\n",
       "  /* fitted */\n",
       "  background-color: var(--sklearn-color-fitted-level-0);\n",
       "}\n",
       "\n",
       "/* on hover */\n",
       "#sk-container-id-1 div.sk-estimator:hover {\n",
       "  /* unfitted */\n",
       "  background-color: var(--sklearn-color-unfitted-level-2);\n",
       "}\n",
       "\n",
       "#sk-container-id-1 div.sk-estimator.fitted:hover {\n",
       "  /* fitted */\n",
       "  background-color: var(--sklearn-color-fitted-level-2);\n",
       "}\n",
       "\n",
       "/* Specification for estimator info (e.g. \"i\" and \"?\") */\n",
       "\n",
       "/* Common style for \"i\" and \"?\" */\n",
       "\n",
       ".sk-estimator-doc-link,\n",
       "a:link.sk-estimator-doc-link,\n",
       "a:visited.sk-estimator-doc-link {\n",
       "  float: right;\n",
       "  font-size: smaller;\n",
       "  line-height: 1em;\n",
       "  font-family: monospace;\n",
       "  background-color: var(--sklearn-color-background);\n",
       "  border-radius: 1em;\n",
       "  height: 1em;\n",
       "  width: 1em;\n",
       "  text-decoration: none !important;\n",
       "  margin-left: 1ex;\n",
       "  /* unfitted */\n",
       "  border: var(--sklearn-color-unfitted-level-1) 1pt solid;\n",
       "  color: var(--sklearn-color-unfitted-level-1);\n",
       "}\n",
       "\n",
       ".sk-estimator-doc-link.fitted,\n",
       "a:link.sk-estimator-doc-link.fitted,\n",
       "a:visited.sk-estimator-doc-link.fitted {\n",
       "  /* fitted */\n",
       "  border: var(--sklearn-color-fitted-level-1) 1pt solid;\n",
       "  color: var(--sklearn-color-fitted-level-1);\n",
       "}\n",
       "\n",
       "/* On hover */\n",
       "div.sk-estimator:hover .sk-estimator-doc-link:hover,\n",
       ".sk-estimator-doc-link:hover,\n",
       "div.sk-label-container:hover .sk-estimator-doc-link:hover,\n",
       ".sk-estimator-doc-link:hover {\n",
       "  /* unfitted */\n",
       "  background-color: var(--sklearn-color-unfitted-level-3);\n",
       "  color: var(--sklearn-color-background);\n",
       "  text-decoration: none;\n",
       "}\n",
       "\n",
       "div.sk-estimator.fitted:hover .sk-estimator-doc-link.fitted:hover,\n",
       ".sk-estimator-doc-link.fitted:hover,\n",
       "div.sk-label-container:hover .sk-estimator-doc-link.fitted:hover,\n",
       ".sk-estimator-doc-link.fitted:hover {\n",
       "  /* fitted */\n",
       "  background-color: var(--sklearn-color-fitted-level-3);\n",
       "  color: var(--sklearn-color-background);\n",
       "  text-decoration: none;\n",
       "}\n",
       "\n",
       "/* Span, style for the box shown on hovering the info icon */\n",
       ".sk-estimator-doc-link span {\n",
       "  display: none;\n",
       "  z-index: 9999;\n",
       "  position: relative;\n",
       "  font-weight: normal;\n",
       "  right: .2ex;\n",
       "  padding: .5ex;\n",
       "  margin: .5ex;\n",
       "  width: min-content;\n",
       "  min-width: 20ex;\n",
       "  max-width: 50ex;\n",
       "  color: var(--sklearn-color-text);\n",
       "  box-shadow: 2pt 2pt 4pt #999;\n",
       "  /* unfitted */\n",
       "  background: var(--sklearn-color-unfitted-level-0);\n",
       "  border: .5pt solid var(--sklearn-color-unfitted-level-3);\n",
       "}\n",
       "\n",
       ".sk-estimator-doc-link.fitted span {\n",
       "  /* fitted */\n",
       "  background: var(--sklearn-color-fitted-level-0);\n",
       "  border: var(--sklearn-color-fitted-level-3);\n",
       "}\n",
       "\n",
       ".sk-estimator-doc-link:hover span {\n",
       "  display: block;\n",
       "}\n",
       "\n",
       "/* \"?\"-specific style due to the `<a>` HTML tag */\n",
       "\n",
       "#sk-container-id-1 a.estimator_doc_link {\n",
       "  float: right;\n",
       "  font-size: 1rem;\n",
       "  line-height: 1em;\n",
       "  font-family: monospace;\n",
       "  background-color: var(--sklearn-color-background);\n",
       "  border-radius: 1rem;\n",
       "  height: 1rem;\n",
       "  width: 1rem;\n",
       "  text-decoration: none;\n",
       "  /* unfitted */\n",
       "  color: var(--sklearn-color-unfitted-level-1);\n",
       "  border: var(--sklearn-color-unfitted-level-1) 1pt solid;\n",
       "}\n",
       "\n",
       "#sk-container-id-1 a.estimator_doc_link.fitted {\n",
       "  /* fitted */\n",
       "  border: var(--sklearn-color-fitted-level-1) 1pt solid;\n",
       "  color: var(--sklearn-color-fitted-level-1);\n",
       "}\n",
       "\n",
       "/* On hover */\n",
       "#sk-container-id-1 a.estimator_doc_link:hover {\n",
       "  /* unfitted */\n",
       "  background-color: var(--sklearn-color-unfitted-level-3);\n",
       "  color: var(--sklearn-color-background);\n",
       "  text-decoration: none;\n",
       "}\n",
       "\n",
       "#sk-container-id-1 a.estimator_doc_link.fitted:hover {\n",
       "  /* fitted */\n",
       "  background-color: var(--sklearn-color-fitted-level-3);\n",
       "}\n",
       "</style><div id=\"sk-container-id-1\" class=\"sk-top-container\"><div class=\"sk-text-repr-fallback\"><pre>KMeans(n_clusters=4, random_state=42)</pre><b>In a Jupyter environment, please rerun this cell to show the HTML representation or trust the notebook. <br />On GitHub, the HTML representation is unable to render, please try loading this page with nbviewer.org.</b></div><div class=\"sk-container\" hidden><div class=\"sk-item\"><div class=\"sk-estimator fitted sk-toggleable\"><input class=\"sk-toggleable__control sk-hidden--visually\" id=\"sk-estimator-id-1\" type=\"checkbox\" checked><label for=\"sk-estimator-id-1\" class=\"sk-toggleable__label fitted sk-toggleable__label-arrow fitted\">&nbsp;&nbsp;KMeans<a class=\"sk-estimator-doc-link fitted\" rel=\"noreferrer\" target=\"_blank\" href=\"https://scikit-learn.org/1.4/modules/generated/sklearn.cluster.KMeans.html\">?<span>Documentation for KMeans</span></a><span class=\"sk-estimator-doc-link fitted\">i<span>Fitted</span></span></label><div class=\"sk-toggleable__content fitted\"><pre>KMeans(n_clusters=4, random_state=42)</pre></div> </div></div></div></div>"
      ],
      "text/plain": [
       "KMeans(n_clusters=4, random_state=42)"
      ]
     },
     "execution_count": 3,
     "metadata": {},
     "output_type": "execute_result"
    }
   ],
   "source": [
    "#KElbow visualization\n",
    "kmeans_tune = KMeans(random_state=42,n_init = 2,max_iter=10)\n",
    "visualizer = KElbowVisualizer(kmeans_tune, k=(1,12),metric=\"distortion\")\n",
    "visualizer.fit(X)\n",
    "visualizer.show()\n",
    "kmeans = KMeans(n_clusters=4, random_state=42)\n",
    "kmeans.fit(X)"
   ]
  },
  {
   "cell_type": "code",
   "execution_count": 4,
   "id": "a0df62aa",
   "metadata": {},
   "outputs": [
    {
     "name": "stdout",
     "output_type": "stream",
     "text": [
      "average silhouette_score: 0.2394578329466852\n",
      "inertia:  9806.514085674524\n"
     ]
    }
   ],
   "source": [
    "# spočítání Silhouette Score:\n",
    "silhouette_avg = silhouette_score(X, kmeans.labels_)\n",
    "print(\"average silhouette_score:\", silhouette_avg)\n",
    "\n",
    "#výpis inertii\n",
    "print(\"inertia: \", kmeans.inertia_)"
   ]
  },
  {
   "cell_type": "code",
   "execution_count": 5,
   "id": "f550b29f",
   "metadata": {},
   "outputs": [
    {
     "name": "stdout",
     "output_type": "stream",
     "text": [
      "[[-1.99529342e-03  5.53170708e-03  7.11607431e-02 -1.70611271e-03\n",
      "   2.30050225e-02  1.47544755e-02 -6.75284384e-01  6.75284384e-01\n",
      "   3.28296843e-02  2.55686996e-02  1.61592298e-01 -2.32657814e-01\n",
      "   1.26671321e-02]\n",
      " [ 1.20615165e-02 -7.88747628e-04  1.85697095e-02  1.80811327e-03\n",
      "   6.97588454e-04  5.81680657e-03  2.03349409e-01 -2.03349409e-01\n",
      "   1.17819411e-01  5.71761923e-02  5.04553066e-01 -7.94830367e-01\n",
      "   1.15281697e-01]]\n"
     ]
    },
    {
     "data": {
      "image/png": "[encoded data removed]",
      "text/plain": [
       "<Figure size 1000x700 with 1 Axes>"
      ]
     },
     "metadata": {},
     "output_type": "display_data"
    }
   ],
   "source": [
    "# Perform PCA\n",
    "pca = PCA(n_components=2)\n",
    "principalComponents = pca.fit_transform(X)\n",
    "print(pca.components_)\n",
    "\n",
    "# Create a DataFrame with the two principal components\n",
    "principalDf = pd.DataFrame(data = principalComponents, columns = ['principal component 1', 'principal component 2'])\n",
    "\n",
    "# Add the cluster labels to this DataFrame\n",
    "principalDf['Cluster'] = kmeans.labels_\n",
    "\n",
    "# Plot the clusters\n",
    "plt.figure(figsize=(10, 7))\n",
    "plt.scatter(principalDf['principal component 1'], principalDf['principal component 2'], c=principalDf['Cluster'], cmap='viridis')\n",
    "plt.xlabel('Principal Component 1')\n",
    "plt.ylabel('Principal Component 2')\n",
    "plt.title('Cluster Visualization')\n",
    "plt.show()\n"
   ]
  },
  {
   "cell_type": "markdown",
   "id": "d079c095-a196-44c0-a86f-8f2c4ded9e4a",
   "metadata": {},
   "source": [
    "### Clustering  2 (hierarchical)"
   ]
  },
  {
   "cell_type": "markdown",
   "id": "59b59103-6b4a-4597-bc88-1d56103ace1f",
   "metadata": {},
   "source": [
    "* Try to use the dendrogram to identify outliers. If an instance joins a cluster higher on the dendrogram, it generally means it is less similar to the other instances. "
   ]
  },
  {
   "cell_type": "code",
   "execution_count": 6,
   "id": "10fd8e83-ab2b-40ee-9e53-b2faa8d5484b",
   "metadata": {},
   "outputs": [
    {
     "data": {
      "image/png": "[encoded data removed]",
      "text/plain": [
       "<Figure size 1000x700 with 1 Axes>"
      ]
     },
     "metadata": {},
     "output_type": "display_data"
    }
   ],
   "source": [
    "# Perform hierarchical clustering\n",
    "linked = linkage(X, 'single')\n",
    "\n",
    "# Plot the dendrogram\n",
    "plt.figure(figsize=(10, 7))\n",
    "dendrogram(linked, orientation='top', distance_sort='descending', show_leaf_counts=True)\n",
    "plt.show()"
   ]
  },
  {
   "cell_type": "markdown",
   "id": "68ec5051-7f02-4208-91bd-841f6dcb7661",
   "metadata": {},
   "source": [
    "# Evaluation"
   ]
  },
  {
   "cell_type": "markdown",
   "id": "733822b9-2966-415b-aff2-ea6e36eb3474",
   "metadata": {},
   "source": [
    "## Global"
   ]
  },
  {
   "cell_type": "markdown",
   "id": "3e83d7c9-198d-4bcd-b76e-3e4774ab3cc7",
   "metadata": {},
   "source": [
    "### Clustering 1 (k-means)"
   ]
  },
  {
   "cell_type": "markdown",
   "id": "4827f33d-3693-467e-b411-d327fc76e615",
   "metadata": {},
   "source": [
    "* Compute the rand index using the value of the target attribute"
   ]
  },
  {
   "cell_type": "code",
   "execution_count": 7,
   "id": "4c860c5c",
   "metadata": {},
   "outputs": [
    {
     "name": "stdout",
     "output_type": "stream",
     "text": [
      "ARI:  0.026354054977239395\n"
     ]
    }
   ],
   "source": [
    "# Assuming 'data' is your original DataFrame and 'X' is your preprocessed data\n",
    "y = data.loc[X.index, 'diabetes']\n",
    "\n",
    "# Compute Adjusted Rand Index\n",
    "ari = adjusted_rand_score(y, kmeans.labels_)\n",
    "\n",
    "print(\"ARI: \", ari)\n"
   ]
  },
  {
   "cell_type": "markdown",
   "id": "b7977055-4ab7-461a-9567-53d6a0f21cec",
   "metadata": {},
   "source": [
    "### Clustering 2 (hierarchical)\n"
   ]
  },
  {
   "cell_type": "markdown",
   "id": "2187d60b-6a44-4e38-aa23-40240e1b78de",
   "metadata": {},
   "source": [
    "* Compute the rand index using the value of the target attribute"
   ]
  },
  {
   "cell_type": "code",
   "execution_count": 8,
   "id": "20d4b8c7",
   "metadata": {},
   "outputs": [
    {
     "ename": "TypeError",
     "evalue": "float() argument must be a string or a real number, not 'function'",
     "output_type": "error",
     "traceback": [
      "\u001b[1;31m---------------------------------------------------------------------------\u001b[0m",
      "\u001b[1;31mTypeError\u001b[0m                                 Traceback (most recent call last)",
      "Cell \u001b[1;32mIn[8], line 3\u001b[0m\n\u001b[0;32m      1\u001b[0m \u001b[38;5;66;03m# Assuming 'Z' is the linkage matrix obtained from hierarchical clustering\u001b[39;00m\n\u001b[0;32m      2\u001b[0m \u001b[38;5;66;03m# and 'k' is the number of clusters you decided based on the dendrogram\u001b[39;00m\n\u001b[1;32m----> 3\u001b[0m clusters \u001b[38;5;241m=\u001b[39m \u001b[43mfcluster\u001b[49m\u001b[43m(\u001b[49m\u001b[43mlinkage\u001b[49m\u001b[43m,\u001b[49m\u001b[43m \u001b[49m\u001b[38;5;241;43m1.4\u001b[39;49m\u001b[43m,\u001b[49m\u001b[43m \u001b[49m\u001b[43mcriterion\u001b[49m\u001b[38;5;241;43m=\u001b[39;49m\u001b[38;5;124;43m'\u001b[39;49m\u001b[38;5;124;43mmaxclust\u001b[39;49m\u001b[38;5;124;43m'\u001b[39;49m\u001b[43m)\u001b[49m\n\u001b[0;32m      5\u001b[0m \u001b[38;5;66;03m# Assuming 'data' is your original DataFrame and 'X' is your preprocessed data\u001b[39;00m\n\u001b[0;32m      6\u001b[0m y \u001b[38;5;241m=\u001b[39m data\u001b[38;5;241m.\u001b[39mloc[X\u001b[38;5;241m.\u001b[39mindex, \u001b[38;5;124m'\u001b[39m\u001b[38;5;124mdiabetes\u001b[39m\u001b[38;5;124m'\u001b[39m]\n",
      "File \u001b[1;32m~\\AppData\\Local\\Packages\\PythonSoftwareFoundation.Python.3.12_qbz5n2kfra8p0\\LocalCache\\local-packages\\Python312\\site-packages\\scipy\\cluster\\hierarchy.py:2547\u001b[0m, in \u001b[0;36mfcluster\u001b[1;34m(Z, t, criterion, depth, R, monocrit)\u001b[0m\n\u001b[0;32m   2396\u001b[0m \u001b[38;5;250m\u001b[39m\u001b[38;5;124;03m\"\"\"\u001b[39;00m\n\u001b[0;32m   2397\u001b[0m \u001b[38;5;124;03mForm flat clusters from the hierarchical clustering defined by\u001b[39;00m\n\u001b[0;32m   2398\u001b[0m \u001b[38;5;124;03mthe given linkage matrix.\u001b[39;00m\n\u001b[1;32m   (...)\u001b[0m\n\u001b[0;32m   2544\u001b[0m \n\u001b[0;32m   2545\u001b[0m \u001b[38;5;124;03m\"\"\"\u001b[39;00m\n\u001b[0;32m   2546\u001b[0m xp \u001b[38;5;241m=\u001b[39m array_namespace(Z)\n\u001b[1;32m-> 2547\u001b[0m Z \u001b[38;5;241m=\u001b[39m \u001b[43mas_xparray\u001b[49m\u001b[43m(\u001b[49m\u001b[43mZ\u001b[49m\u001b[43m,\u001b[49m\u001b[43m \u001b[49m\u001b[43morder\u001b[49m\u001b[38;5;241;43m=\u001b[39;49m\u001b[38;5;124;43m'\u001b[39;49m\u001b[38;5;124;43mC\u001b[39;49m\u001b[38;5;124;43m'\u001b[39;49m\u001b[43m,\u001b[49m\u001b[43m \u001b[49m\u001b[43mdtype\u001b[49m\u001b[38;5;241;43m=\u001b[39;49m\u001b[43mxp\u001b[49m\u001b[38;5;241;43m.\u001b[39;49m\u001b[43mfloat64\u001b[49m\u001b[43m,\u001b[49m\u001b[43m \u001b[49m\u001b[43mxp\u001b[49m\u001b[38;5;241;43m=\u001b[39;49m\u001b[43mxp\u001b[49m\u001b[43m)\u001b[49m\n\u001b[0;32m   2548\u001b[0m is_valid_linkage(Z, throw\u001b[38;5;241m=\u001b[39m\u001b[38;5;28;01mTrue\u001b[39;00m, name\u001b[38;5;241m=\u001b[39m\u001b[38;5;124m'\u001b[39m\u001b[38;5;124mZ\u001b[39m\u001b[38;5;124m'\u001b[39m)\n\u001b[0;32m   2550\u001b[0m n \u001b[38;5;241m=\u001b[39m Z\u001b[38;5;241m.\u001b[39mshape[\u001b[38;5;241m0\u001b[39m] \u001b[38;5;241m+\u001b[39m \u001b[38;5;241m1\u001b[39m\n",
      "File \u001b[1;32m~\\AppData\\Local\\Packages\\PythonSoftwareFoundation.Python.3.12_qbz5n2kfra8p0\\LocalCache\\local-packages\\Python312\\site-packages\\scipy\\_lib\\_array_api.py:139\u001b[0m, in \u001b[0;36mas_xparray\u001b[1;34m(array, dtype, order, copy, xp, check_finite)\u001b[0m\n\u001b[0;32m    137\u001b[0m     array \u001b[38;5;241m=\u001b[39m np\u001b[38;5;241m.\u001b[39marray(array, order\u001b[38;5;241m=\u001b[39morder, dtype\u001b[38;5;241m=\u001b[39mdtype)\n\u001b[0;32m    138\u001b[0m \u001b[38;5;28;01melse\u001b[39;00m:\n\u001b[1;32m--> 139\u001b[0m     array \u001b[38;5;241m=\u001b[39m \u001b[43mnp\u001b[49m\u001b[38;5;241;43m.\u001b[39;49m\u001b[43masarray\u001b[49m\u001b[43m(\u001b[49m\u001b[43marray\u001b[49m\u001b[43m,\u001b[49m\u001b[43m \u001b[49m\u001b[43morder\u001b[49m\u001b[38;5;241;43m=\u001b[39;49m\u001b[43morder\u001b[49m\u001b[43m,\u001b[49m\u001b[43m \u001b[49m\u001b[43mdtype\u001b[49m\u001b[38;5;241;43m=\u001b[39;49m\u001b[43mdtype\u001b[49m\u001b[43m)\u001b[49m\n\u001b[0;32m    141\u001b[0m \u001b[38;5;66;03m# At this point array is a NumPy ndarray. We convert it to an array\u001b[39;00m\n\u001b[0;32m    142\u001b[0m \u001b[38;5;66;03m# container that is consistent with the input's namespace.\u001b[39;00m\n\u001b[0;32m    143\u001b[0m array \u001b[38;5;241m=\u001b[39m xp\u001b[38;5;241m.\u001b[39masarray(array)\n",
      "\u001b[1;31mTypeError\u001b[0m: float() argument must be a string or a real number, not 'function'"
     ]
    }
   ],
   "source": [
    "# Assuming 'Z' is the linkage matrix obtained from hierarchical clustering\n",
    "# and 'k' is the number of clusters you decided based on the dendrogram\n",
    "clusters = fcluster(linkage, 1.4, criterion='maxclust')\n",
    "\n",
    "# Assuming 'data' is your original DataFrame and 'X' is your preprocessed data\n",
    "y = data.loc[X.index, 'diabetes']\n",
    "\n",
    "# Compute Adjusted Rand Index\n",
    "ari = adjusted_rand_score(y, clusters)\n",
    "\n",
    "print(\"ARI: \", ari)\n"
   ]
  },
  {
   "cell_type": "markdown",
   "id": "9b945f57-4277-4268-8d39-2a52cd22be20",
   "metadata": {},
   "source": [
    "## Local"
   ]
  },
  {
   "cell_type": "markdown",
   "id": "cd6b5074-5c05-43de-a825-15665a508808",
   "metadata": {},
   "source": [
    "*\tUse the model to classify the chosen instance into a cluster"
   ]
  },
  {
   "cell_type": "markdown",
   "id": "057b501e-6bd3-4f65-9a30-f3100f9886cf",
   "metadata": {},
   "source": [
    "# Explanation"
   ]
  },
  {
   "cell_type": "markdown",
   "id": "27feb797-487c-4ec3-abf5-3ccad0909518",
   "metadata": {},
   "source": [
    "## Global explanation"
   ]
  },
  {
   "cell_type": "markdown",
   "id": "6dcfcf05-9ac5-4447-af82-24337e2fc374",
   "metadata": {},
   "source": [
    "### Clustering 1 - k-means"
   ]
  },
  {
   "cell_type": "markdown",
   "id": "06b8dc6a-8e58-4d44-8b6d-46d60cb52d23",
   "metadata": {},
   "source": [
    "*\tInterpret the final clusters based on their centroids and the number of instances in each cluster."
   ]
  },
  {
   "cell_type": "markdown",
   "id": "73013817-c8ed-4148-93f8-0d4b89c4f0fa",
   "metadata": {},
   "source": [
    "### Clustering 2 - hierarchical"
   ]
  },
  {
   "cell_type": "markdown",
   "id": "affa289a-a6c5-4e49-bdf1-cc0944396eba",
   "metadata": {},
   "source": [
    "* Plot the dendrogram for clustering"
   ]
  },
  {
   "cell_type": "markdown",
   "id": "23f3ce2f-60b4-4471-9866-41e7bb4db0cf",
   "metadata": {},
   "source": [
    "## Local explanation"
   ]
  },
  {
   "cell_type": "markdown",
   "id": "c71c9a97-1f6c-4a80-9b50-2f50ca3d9d49",
   "metadata": {},
   "source": [
    "* Use both models to show what cluster is assigned to the *instance of interest*\n",
    "* Comment on the assigned cluster."
   ]
  },
  {
   "cell_type": "markdown",
   "id": "e5be3b7f-9ddb-461e-b605-58e91e8c3505",
   "metadata": {},
   "source": [
    "# Conclusion\n",
    "Summarize the results, answering questions such as:"
   ]
  },
  {
   "cell_type": "markdown",
   "id": "2bdcc20d-2016-4114-a8db-5835ac1a9ccb",
   "metadata": {},
   "source": [
    "1.\tWhich clustering provided the most useful result? \n",
    "2.\tWhat setting provided the best result?"
   ]
  },
  {
   "cell_type": "markdown",
   "id": "3a608e79-6f5f-4b54-8f32-08449733f98f",
   "metadata": {},
   "source": [
    "# Optional parts"
   ]
  },
  {
   "cell_type": "markdown",
   "id": "b4be41f6-32cd-40aa-856c-65aef08874a3",
   "metadata": {},
   "source": [
    "## Local explanation"
   ]
  },
  {
   "cell_type": "markdown",
   "id": "538fcba7-8c21-4471-b427-6197cf8fe0a7",
   "metadata": {},
   "source": [
    "*\tDoes the value of the target class in the data match with the mode (average) of the assigned cluster? As the target attribute was not included in the clustering, to compute this, you need to  match the instance of interest as well as the instances in the assigned cluster with the original input data and use this to obtain the target value (and compute the mean/mode for the assigned cluster)"
   ]
  }
 ],
 "metadata": {
  "kernelspec": {
   "display_name": "Python 3 (ipykernel)",
   "language": "python",
   "name": "python3"
  },
  "language_info": {
   "codemirror_mode": {
    "name": "ipython",
    "version": 3
   },
   "file_extension": ".py",
   "mimetype": "text/x-python",
   "name": "python",
   "nbconvert_exporter": "python",
   "pygments_lexer": "ipython3",
   "version": "3.12.2"
  }
 },
 "nbformat": 4,
 "nbformat_minor": 5
}
