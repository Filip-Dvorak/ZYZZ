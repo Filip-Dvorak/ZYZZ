{
 "cells": [
  {
   "cell_type": "markdown",
   "id": "9475831f-922c-4f1c-85bd-78c280d980d1",
   "metadata": {},
   "source": [
    "# Template for coursework - Part 2: Clustering"
   ]
  },
  {
   "cell_type": "code",
   "execution_count": 1,
   "id": "ef1eee9e-0674-4f96-a642-fddf0f96820a",
   "metadata": {},
   "outputs": [],
   "source": [
    "# import of libraries\n",
    "import pandas as pd\n",
    "from sklearn.cluster import KMeans\n",
    "import numpy as np\n",
    "import matplotlib.pyplot as plt\n",
    "from yellowbrick.cluster import KElbowVisualizer\n",
    "from sklearn.preprocessing import MinMaxScaler"
   ]
  },
  {
   "cell_type": "markdown",
   "id": "c6babbb1-c6e7-4901-b12b-2273e3494dfb",
   "metadata": {},
   "source": [
    "## Team identification"
   ]
  },
  {
   "cell_type": "markdown",
   "id": "177dd029",
   "metadata": {},
   "source": [
    "* seminar day and time\n",
    "ST 9:15\n",
    "* team number\n",
    "Team D\n",
    "* names of team members\n",
    "Michal Červinka, Filip Dvořák, Tomáš Jareš, Dominik Šimon"
   ]
  },
  {
   "cell_type": "markdown",
   "id": "7ba4a4a6-0a2c-4b28-9ef1-f94c0a747ce6",
   "metadata": {},
   "source": [
    "# Introduction"
   ]
  },
  {
   "cell_type": "markdown",
   "id": "f6d34c78",
   "metadata": {},
   "source": [
    "1.\tDescribe the business value of addressing this problem with machine learning.\n",
    "\n",
    "    Použití strojového učení na dataset diabetu může výrazně přispět k zlepšení zdravotní péče. Umožňuje časnou detekci a diagnostiku diabetu, vytváření personalizovaných léčebných plánů, předpovídání pravděpodobnosti komplikací, stratifikaci pacientů na základě rizika a efektivní řízení a sledování nemoci. Tímto způsobem může strojové učení zlepšit klinické \n",
    "    rozhodování, výsledky pacientů a přispět k efektivnějšímu poskytování zdravotní péče.\n",
    "\n",
    "2.\tProvide the link to the source of the data.\n",
    "    https://www.kaggle.com/datasets/iammustafatz/diabetes-prediction-dataset"
   ]
  },
  {
   "cell_type": "markdown",
   "id": "1bd80a6d-a078-4807-ac77-e2d7910fa741",
   "metadata": {},
   "source": [
    "## Customization"
   ]
  },
  {
   "cell_type": "markdown",
   "id": "a404f536",
   "metadata": {},
   "source": [
    "//TODO\n",
    "\n",
    "1.\tWhat is the *target attribute*\n",
    "2.\tWhat is the *instance of interest*   The instance can be identified, for example, by an id.\n",
    "3.\tChoose an *attribute of interest* \n",
    "5.\tShow *Cost matrix* consisting of a cost of a false positive, false negative, true positive and true negative. Note that cost of true positive and true negative is recommended to be zero."
   ]
  },
  {
   "cell_type": "markdown",
   "id": "6feaf889-6fd2-4371-a7c0-3b8e23d21a81",
   "metadata": {},
   "source": [
    "# Data preprocessing"
   ]
  },
  {
   "cell_type": "markdown",
   "id": "36c92e0f-b7e7-4120-9c6d-2248ef8d6bb0",
   "metadata": {},
   "source": [
    "## Preprocessing for unsupervised machine learning "
   ]
  },
  {
   "cell_type": "markdown",
   "id": "d1a4f26f-8ffc-4bed-8870-23c3fe627420",
   "metadata": {},
   "source": [
    "* As clustering is  performed only on the chosen subset of data, remove data not in the subgroup\n",
    "* Perform min-max feature rescaling\n",
    "* remove target attribute from clustering\n",
    "* do *not* create train-test splits"
   ]
  },
  {
   "cell_type": "code",
   "execution_count": 7,
   "id": "f0f6adec",
   "metadata": {},
   "outputs": [
    {
     "name": "stdout",
     "output_type": "stream",
     "text": [
      "    gender   age  hypertension  heart_disease smoking_history    bmi  \\\n",
      "0   Female  80.0             0              1           never  25.19   \n",
      "1   Female  54.0             0              0         No Info  27.32   \n",
      "15    Male  78.0             0              0         No Info  27.32   \n",
      "23  Female  72.0             0              1          former  27.94   \n",
      "26    Male  67.0             0              1     not current  27.32   \n",
      "\n",
      "    HbA1c_level  blood_glucose_level  \n",
      "0           6.6                  140  \n",
      "1           6.6                   80  \n",
      "15          6.6                  126  \n",
      "23          6.5                  130  \n",
      "26          6.5                  200  \n",
      "smoking_history\n",
      "never          4740\n",
      "former         2230\n",
      "current        1127\n",
      "not current    1021\n",
      "ever            646\n",
      "Name: count, dtype: int64\n",
      "               age  hypertension  heart_disease          bmi  HbA1c_level  \\\n",
      "count  9764.000000   9764.000000    9764.000000  9764.000000  9764.000000   \n",
      "mean      0.503448      0.186604       0.119521     0.288974     0.193093   \n",
      "std       0.323033      0.389613       0.324417     0.102869     0.317214   \n",
      "min       0.000000      0.000000       0.000000     0.000000     0.000000   \n",
      "25%       0.233333      0.000000       0.000000     0.241346     0.000000   \n",
      "50%       0.466667      0.000000       0.000000     0.248625     0.040000   \n",
      "75%       0.800000      0.000000       0.000000     0.333549     0.200000   \n",
      "max       1.000000      1.000000       1.000000     1.000000     1.000000   \n",
      "\n",
      "       blood_glucose_level  \n",
      "count          9764.000000  \n",
      "mean              0.361786  \n",
      "std               0.250963  \n",
      "min               0.000000  \n",
      "25%               0.227273  \n",
      "50%               0.340909  \n",
      "75%               0.363636  \n",
      "max               1.000000  \n"
     ]
    },
    {
     "name": "stderr",
     "output_type": "stream",
     "text": [
      "C:\\Users\\cervi\\AppData\\Local\\Temp\\ipykernel_5440\\637956738.py:18: FutureWarning: ChainedAssignmentError: behaviour will change in pandas 3.0!\n",
      "You are setting values through chained assignment. Currently this works in certain cases, but when using Copy-on-Write (which will become the default behaviour in pandas 3.0) this will never work to update the original DataFrame or Series, because the intermediate object on which we are setting values will behave as a copy.\n",
      "A typical example is when you are setting values in a column of a DataFrame, like:\n",
      "\n",
      "df[\"col\"][row_indexer] = value\n",
      "\n",
      "Use `df.loc[row_indexer, \"col\"] = values` instead, to perform the assignment in a single step and ensure this keeps updating the original `df`.\n",
      "\n",
      "See the caveats in the documentation: https://pandas.pydata.org/pandas-docs/stable/user_guide/indexing.html#returning-a-view-versus-a-copy\n",
      "\n",
      "  X['smoking_history'].loc[X['smoking_history'] == 'No Info'] = random\n"
     ]
    }
   ],
   "source": [
    "data = pd.read_csv(\"diabetes_prediction_dataset.csv\")\n",
    "data\n",
    "\n",
    "#Vybrání dat bez cílové proměnné\n",
    "X = data.drop('diabetes', axis=1)\n",
    "\n",
    "#Vytvoření subsetu\n",
    "X=X[X['age']>=50]\n",
    "X=X[X['HbA1c_level']>=6.5]\n",
    "print(X.head())\n",
    "\n",
    "#Doplnění chbějících pozorování pro smoking history\n",
    "value_counts = X[X['smoking_history'] != 'No Info']['smoking_history'].value_counts()\n",
    "total_count = value_counts.sum()\n",
    "distribution = (X['smoking_history'].value_counts() / total_count).drop('No Info')\n",
    "random= np.random.choice(distribution.index,X[X['smoking_history'] == 'No Info'].shape[0] ,p=distribution.values)\n",
    "\n",
    "X['smoking_history'].loc[X['smoking_history'] == 'No Info'] = random\n",
    "\n",
    "\n",
    "#Odebrání řádků, kde je atribut gender \"Other\"\n",
    "X = X.drop(X[X['gender'] == 'Other'].index)\n",
    "\n",
    "#Převedení kategoriálních atributů na binární\n",
    "X = pd.get_dummies(X, columns=['gender'])\n",
    "print(X['smoking_history'].value_counts())\n",
    "X = pd.get_dummies(X, columns=['smoking_history'])\n",
    "\n",
    "\n",
    "\n",
    "#MinMax scaling\n",
    "scaler = MinMaxScaler()\n",
    "X[['age', 'bmi', 'HbA1c_level', 'blood_glucose_level']] = scaler.fit_transform(X[['age', 'bmi', 'HbA1c_level', 'blood_glucose_level']])\n",
    "print(X.describe()) #tabulka pro kontrolu min a max value \n",
    "\n"
   ]
  },
  {
   "cell_type": "markdown",
   "id": "2af97898-27c3-4c23-b183-999f648695d0",
   "metadata": {},
   "source": [
    "## Modeling and visualization"
   ]
  },
  {
   "cell_type": "markdown",
   "id": "0bec3981-349b-4d6a-8ad3-4125e7f0268c",
   "metadata": {},
   "source": [
    "* do not include target attribute among variables for clustering"
   ]
  },
  {
   "cell_type": "markdown",
   "id": "1d7affee-be4e-4b35-a7d2-31be4bb45ccd",
   "metadata": {},
   "source": [
    "### Clustering 1 (k-means)"
   ]
  },
  {
   "cell_type": "markdown",
   "id": "33f6674b-e1d0-495c-87f8-768302b9488c",
   "metadata": {},
   "source": [
    "* Use the elbow curve graph to find the best value of inertia (wcss)\n",
    "* It is recommended to use two measures (such as the Silhouette score and the Inertia) and compare the resulting number of clusters based on their best values.\n",
    "* Create a scatter plot for each cluster and use color"
   ]
  },
  {
   "cell_type": "code",
   "execution_count": 8,
   "id": "48000ebc",
   "metadata": {},
   "outputs": [
    {
     "data": {
      "image/png": "[encoded data removed]",
      "text/plain": [
       "<Figure size 800x550 with 2 Axes>"
      ]
     },
     "metadata": {},
     "output_type": "display_data"
    },
    {
     "data": {
      "text/plain": [
       "<Axes: title={'center': 'Distortion Score Elbow for KMeans Clustering'}, xlabel='k', ylabel='distortion score'>"
      ]
     },
     "execution_count": 8,
     "metadata": {},
     "output_type": "execute_result"
    }
   ],
   "source": [
    "#KElbow visualization\n",
    "kmeans_tune = KMeans(random_state=42,n_init = 2,max_iter=10)\n",
    "visualizer = KElbowVisualizer(kmeans_tune, k=(1,12),metric=\"distortion\")\n",
    "visualizer.fit(X)\n",
    "visualizer.show()"
   ]
  },
  {
   "cell_type": "code",
   "execution_count": null,
   "id": "a0df62aa",
   "metadata": {},
   "outputs": [],
   "source": []
  },
  {
   "cell_type": "markdown",
   "id": "d079c095-a196-44c0-a86f-8f2c4ded9e4a",
   "metadata": {},
   "source": [
    "### Clustering  2 (hierarchical)"
   ]
  },
  {
   "cell_type": "markdown",
   "id": "59b59103-6b4a-4597-bc88-1d56103ace1f",
   "metadata": {},
   "source": [
    "* Try to use the dendrogram to identify outliers. If an instance joins a cluster higher on the dendrogram, it generally means it is less similar to the other instances. "
   ]
  },
  {
   "cell_type": "code",
   "execution_count": null,
   "id": "10fd8e83-ab2b-40ee-9e53-b2faa8d5484b",
   "metadata": {},
   "outputs": [],
   "source": []
  },
  {
   "cell_type": "markdown",
   "id": "68ec5051-7f02-4208-91bd-841f6dcb7661",
   "metadata": {},
   "source": [
    "# Evaluation"
   ]
  },
  {
   "cell_type": "markdown",
   "id": "733822b9-2966-415b-aff2-ea6e36eb3474",
   "metadata": {},
   "source": [
    "## Global"
   ]
  },
  {
   "cell_type": "markdown",
   "id": "3e83d7c9-198d-4bcd-b76e-3e4774ab3cc7",
   "metadata": {},
   "source": [
    "### Clustering 1 (k-means)"
   ]
  },
  {
   "cell_type": "markdown",
   "id": "4827f33d-3693-467e-b411-d327fc76e615",
   "metadata": {},
   "source": [
    "* Compute the rand index using the value of the target attribute"
   ]
  },
  {
   "cell_type": "markdown",
   "id": "b7977055-4ab7-461a-9567-53d6a0f21cec",
   "metadata": {},
   "source": [
    "### Clustering 2 (hierarchical)"
   ]
  },
  {
   "cell_type": "markdown",
   "id": "2187d60b-6a44-4e38-aa23-40240e1b78de",
   "metadata": {},
   "source": [
    "* Compute the rand index using the value of the target attribute"
   ]
  },
  {
   "cell_type": "markdown",
   "id": "9b945f57-4277-4268-8d39-2a52cd22be20",
   "metadata": {},
   "source": [
    "## Local"
   ]
  },
  {
   "cell_type": "markdown",
   "id": "cd6b5074-5c05-43de-a825-15665a508808",
   "metadata": {},
   "source": [
    "*\tUse the model to classify the chosen instance into a cluster"
   ]
  },
  {
   "cell_type": "markdown",
   "id": "057b501e-6bd3-4f65-9a30-f3100f9886cf",
   "metadata": {},
   "source": [
    "# Explanation"
   ]
  },
  {
   "cell_type": "markdown",
   "id": "27feb797-487c-4ec3-abf5-3ccad0909518",
   "metadata": {},
   "source": [
    "## Global explanation"
   ]
  },
  {
   "cell_type": "markdown",
   "id": "6dcfcf05-9ac5-4447-af82-24337e2fc374",
   "metadata": {},
   "source": [
    "### Clustering 1 - k-means"
   ]
  },
  {
   "cell_type": "markdown",
   "id": "06b8dc6a-8e58-4d44-8b6d-46d60cb52d23",
   "metadata": {},
   "source": [
    "*\tInterpret the final clusters based on their centroids and the number of instances in each cluster."
   ]
  },
  {
   "cell_type": "markdown",
   "id": "73013817-c8ed-4148-93f8-0d4b89c4f0fa",
   "metadata": {},
   "source": [
    "### Clustering 2 - hierarchical"
   ]
  },
  {
   "cell_type": "markdown",
   "id": "affa289a-a6c5-4e49-bdf1-cc0944396eba",
   "metadata": {},
   "source": [
    "* Plot the dendrogram for clustering"
   ]
  },
  {
   "cell_type": "markdown",
   "id": "23f3ce2f-60b4-4471-9866-41e7bb4db0cf",
   "metadata": {},
   "source": [
    "## Local explanation"
   ]
  },
  {
   "cell_type": "markdown",
   "id": "c71c9a97-1f6c-4a80-9b50-2f50ca3d9d49",
   "metadata": {},
   "source": [
    "* Use both models to show what cluster is assigned to the *instance of interest*\n",
    "* Comment on the assigned cluster."
   ]
  },
  {
   "cell_type": "markdown",
   "id": "e5be3b7f-9ddb-461e-b605-58e91e8c3505",
   "metadata": {},
   "source": [
    "# Conclusion\n",
    "Summarize the results, answering questions such as:"
   ]
  },
  {
   "cell_type": "markdown",
   "id": "2bdcc20d-2016-4114-a8db-5835ac1a9ccb",
   "metadata": {},
   "source": [
    "1.\tWhich clustering provided the most useful result? \n",
    "2.\tWhat setting provided the best result?"
   ]
  },
  {
   "cell_type": "markdown",
   "id": "3a608e79-6f5f-4b54-8f32-08449733f98f",
   "metadata": {},
   "source": [
    "# Optional parts"
   ]
  },
  {
   "cell_type": "markdown",
   "id": "b4be41f6-32cd-40aa-856c-65aef08874a3",
   "metadata": {},
   "source": [
    "## Local explanation"
   ]
  },
  {
   "cell_type": "markdown",
   "id": "538fcba7-8c21-4471-b427-6197cf8fe0a7",
   "metadata": {},
   "source": [
    "*\tDoes the value of the target class in the data match with the mode (average) of the assigned cluster? As the target attribute was not included in the clustering, to compute this, you need to  match the instance of interest as well as the instances in the assigned cluster with the original input data and use this to obtain the target value (and compute the mean/mode for the assigned cluster)"
   ]
  }
 ],
 "metadata": {
  "kernelspec": {
   "display_name": "Python 3 (ipykernel)",
   "language": "python",
   "name": "python3"
  },
  "language_info": {
   "codemirror_mode": {
    "name": "ipython",
    "version": 3
   },
   "file_extension": ".py",
   "mimetype": "text/x-python",
   "name": "python",
   "nbconvert_exporter": "python",
   "pygments_lexer": "ipython3",
   "version": "3.12.2"
  }
 },
 "nbformat": 4,
 "nbformat_minor": 5
}
