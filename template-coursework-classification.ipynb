{
 "cells": [
  {
   "cell_type": "markdown",
   "id": "9475831f-922c-4f1c-85bd-78c280d980d1",
   "metadata": {},
   "source": [
    "# Template for coursework - Part 1 Classification"
   ]
  },
  {
   "cell_type": "code",
   "execution_count": 1,
   "id": "ef1eee9e-0674-4f96-a642-fddf0f96820a",
   "metadata": {},
   "outputs": [],
   "source": [
    "# import of libraries"
   ]
  },
  {
   "cell_type": "markdown",
   "id": "93cb742e-3f37-4a7e-b3b1-08045ed962c1",
   "metadata": {},
   "source": [
    "## Team identification"
   ]
  },
  {
   "cell_type": "markdown",
   "id": "72828cbd-daec-43a3-b735-06d0f9cb1288",
   "metadata": {},
   "source": [
    "* seminar day and time\n",
    "* team number\n",
    "* names of team members"
   ]
  },
  {
   "cell_type": "markdown",
   "id": "7ba4a4a6-0a2c-4b28-9ef1-f94c0a747ce6",
   "metadata": {},
   "source": [
    "# Introduction"
   ]
  },
  {
   "cell_type": "markdown",
   "id": "fec6cf64-d9e3-4296-8a9c-94b778a277c0",
   "metadata": {},
   "source": [
    "1.\tDescribe the business value of addressing this problem with machine learning. \n",
    "2.\tProvide the link to the source of the data. "
   ]
  },
  {
   "cell_type": "markdown",
   "id": "1bd80a6d-a078-4807-ac77-e2d7910fa741",
   "metadata": {},
   "source": [
    "## Customization"
   ]
  },
  {
   "cell_type": "markdown",
   "id": "0c7613c1-376c-4c10-98d6-025d24a69d41",
   "metadata": {},
   "source": [
    "1.\tWhat is the *target attribute*\n",
    "2.\tWhat is the *instance of interest*   The instance can be identified, for example, by an id.\n",
    "3.\tChoose an *attribute of interest* \n",
    "5.\tShow *Cost matrix* consisting of a cost of a false positive, false negative, true positive and true negative. Note that cost of true positive and true negative is recommended to be zero."
   ]
  },
  {
   "cell_type": "markdown",
   "id": "ac5f4e88-7578-4533-a2cb-da9262f0f4e1",
   "metadata": {},
   "source": [
    "# Data Exploration"
   ]
  },
  {
   "cell_type": "markdown",
   "id": "8698226f-fda5-4572-ad9f-de7feca2638c",
   "metadata": {},
   "source": [
    "1. Describe meaning of individual attributes\n",
    "2.\tShow a histogram (or a table with value frequencies) for the target variable and for selected other variables. Try to convey the distributions of target variable for each predictor (e.g. by using stacked bar chart) \n",
    "3.\tShow a scatterplot (correlation plot) showing the relation between selected predictors and the target variable\n",
    "4.\tInterpret the results\n"
   ]
  },
  {
   "cell_type": "markdown",
   "id": "6feaf889-6fd2-4371-a7c0-3b8e23d21a81",
   "metadata": {},
   "source": [
    "# Data preprocessing"
   ]
  },
  {
   "cell_type": "markdown",
   "id": "36c92e0f-b7e7-4120-9c6d-2248ef8d6bb0",
   "metadata": {},
   "source": [
    "## Preprocessing for supervised machine learning "
   ]
  },
  {
   "cell_type": "markdown",
   "id": "32f2303e-2cf4-4619-bc61-0f650689c441",
   "metadata": {},
   "source": [
    "### Derive binary target attribute (if not already binary)"
   ]
  },
  {
   "cell_type": "code",
   "execution_count": null,
   "id": "33e3f899-d6cd-4f34-96c5-0c740cae6acf",
   "metadata": {},
   "outputs": [],
   "source": []
  },
  {
   "cell_type": "markdown",
   "id": "fcdb5c01-4699-4787-879d-a3d2ca23eed4",
   "metadata": {},
   "source": [
    "### Train test split "
   ]
  },
  {
   "cell_type": "code",
   "execution_count": null,
   "id": "49d7e351-edc8-416a-bee9-bd7daf5e8d83",
   "metadata": {},
   "outputs": [],
   "source": []
  },
  {
   "cell_type": "markdown",
   "id": "480bbc38-8a9f-4ae1-8d13-cc7180bb69a7",
   "metadata": {},
   "source": [
    "### Feature engineering "
   ]
  },
  {
   "cell_type": "markdown",
   "id": "93c03fb6-2c6a-4c0f-a219-338e5fc451bb",
   "metadata": {},
   "source": [
    "Do at least one additional data preprocessing, such as\n",
    "\n",
    "-\tRemove missing values\n",
    "-\tIf the classes are imbalanced, you may upsample (or downsample) the training dataset.\n",
    "-\tNormalize values or use a standard scale \n",
    "-\tRemove rows based on subsetting\n",
    "-\tDerive new columns\n",
    "-\tPerform feature selection (remove some attributes)\n"
   ]
  },
  {
   "cell_type": "markdown",
   "id": "43c571b7-7609-4e25-9c46-f3f23ac39bc0",
   "metadata": {},
   "source": [
    "Make sure that your preprocessing operation does not use information from the test set. It is therefore recommended to “fit” preprocessing on the training set and then apply it on the test set."
   ]
  },
  {
   "cell_type": "markdown",
   "id": "7151814c-72dc-470e-a1c5-64ea39372f46",
   "metadata": {},
   "source": [
    "## Applying preprocessing on test data"
   ]
  },
  {
   "cell_type": "code",
   "execution_count": null,
   "id": "0a9ebd01-1e2f-45b6-bb52-a13304f8195c",
   "metadata": {},
   "outputs": [],
   "source": []
  },
  {
   "cell_type": "markdown",
   "id": "2af97898-27c3-4c23-b183-999f648695d0",
   "metadata": {},
   "source": [
    "## Modeling"
   ]
  },
  {
   "cell_type": "markdown",
   "id": "57deaf57-b9f8-491e-a65b-f625ffc8ec11",
   "metadata": {},
   "source": [
    "* Train the model on training data, and evaluate the model on test data. \n",
    "* Try at least two machine learning classification algorithms. It is recommended to try Decision Trees and Forests. \n"
   ]
  },
  {
   "cell_type": "markdown",
   "id": "1d7affee-be4e-4b35-a7d2-31be4bb45ccd",
   "metadata": {},
   "source": [
    "### Classifier 1 (decision tree)"
   ]
  },
  {
   "cell_type": "markdown",
   "id": "33f6674b-e1d0-495c-87f8-768302b9488c",
   "metadata": {},
   "source": [
    "* Try various combinations of metaparameters (such as tree depth for decision tree) and record the impact on predictive performance. You can use grid search cross-validation for this.\n",
    "* Once you determine the best values, you can refit the model with the best parameter value on the entire training data."
   ]
  },
  {
   "cell_type": "markdown",
   "id": "d079c095-a196-44c0-a86f-8f2c4ded9e4a",
   "metadata": {},
   "source": [
    "### Classifier 2 (random forest)"
   ]
  },
  {
   "cell_type": "markdown",
   "id": "59b59103-6b4a-4597-bc88-1d56103ace1f",
   "metadata": {},
   "source": [
    "* Try various combinations of metaparameters (such as  number of trees in a forest) and record the impact on predictive performance. You can use grid search cross-validation for this.\n",
    "* Once you determine the best values, you can refit the model with the best parameter value on the entire training data.\n"
   ]
  },
  {
   "cell_type": "markdown",
   "id": "7d528b15-69ff-4c9f-996d-05a15b666012",
   "metadata": {},
   "source": [
    "### Classifier 3 (baseline)"
   ]
  },
  {
   "cell_type": "markdown",
   "id": "e13041dc-912c-495a-94e4-eb39b5d8ec5e",
   "metadata": {},
   "source": [
    "* Fit a baseline model, e.g., a model that predicts the most frequent class in the training data"
   ]
  },
  {
   "cell_type": "markdown",
   "id": "68ec5051-7f02-4208-91bd-841f6dcb7661",
   "metadata": {},
   "source": [
    "# Evaluation"
   ]
  },
  {
   "cell_type": "markdown",
   "id": "3e83d7c9-198d-4bcd-b76e-3e4774ab3cc7",
   "metadata": {},
   "source": [
    "### Classifier 1 (decision tree)"
   ]
  },
  {
   "cell_type": "markdown",
   "id": "4827f33d-3693-467e-b411-d327fc76e615",
   "metadata": {},
   "source": [
    "* Compute accuracy and F1 score on test data (you can include also other measures)\n",
    "* Show confusion matrix\n",
    "* Multiply the predefined costs with the confusion matrix to get the overall cost of the model"
   ]
  },
  {
   "cell_type": "markdown",
   "id": "4039dc4c-32ed-4d99-91ff-15db5c2acee5",
   "metadata": {},
   "source": [
    "### Classifier 2 (random forest)"
   ]
  },
  {
   "cell_type": "markdown",
   "id": "05eed07b-1d34-4ed6-a23e-714e3301855c",
   "metadata": {},
   "source": [
    "* Compute accuracy and F1 score on test data (you can include also other measures)\n",
    "* Show confusion matrix\n",
    "* Multiply the predefined costs with the confusion matrix to get the overall cost of the model"
   ]
  },
  {
   "cell_type": "markdown",
   "id": "1baa6256-4dda-432d-8706-e13d3ffd1836",
   "metadata": {},
   "source": [
    "### Classifier 3 (baseline)"
   ]
  },
  {
   "cell_type": "markdown",
   "id": "d8e9d4ad-609c-47eb-bc8a-99d4661a09d7",
   "metadata": {},
   "source": [
    "* Compute accuracy and F1 score on test data (you can include also other measures)\n",
    "* Show confusion matrix\n",
    "* Multiply the predefined costs with the confusion matrix to get the overall cost of the model"
   ]
  },
  {
   "cell_type": "markdown",
   "id": "06b7b0a6-590b-418c-8366-5d0e4bdc3b11",
   "metadata": {},
   "source": [
    "### Summary"
   ]
  },
  {
   "cell_type": "markdown",
   "id": "b1170cfa-481c-4901-93d9-3cb0720522f6",
   "metadata": {},
   "source": [
    "* Which metric is most suitable for use for the current problem (accuracy, F-measure)?\n",
    "* Compare the performance metrics for all types of models (e.g,. decision tree and forest). Which model is the best one?\n",
    "* Combine (multiply) the predefined costs matrix with the values in the confusion matrix for each model. Which model is the best one? \n"
   ]
  },
  {
   "cell_type": "markdown",
   "id": "057b501e-6bd3-4f65-9a30-f3100f9886cf",
   "metadata": {},
   "source": [
    "# Explanation"
   ]
  },
  {
   "cell_type": "markdown",
   "id": "27feb797-487c-4ec3-abf5-3ccad0909518",
   "metadata": {},
   "source": [
    "## Global explanation"
   ]
  },
  {
   "cell_type": "markdown",
   "id": "6dcfcf05-9ac5-4447-af82-24337e2fc374",
   "metadata": {},
   "source": [
    "### Classifier 1 - decision tree"
   ]
  },
  {
   "cell_type": "markdown",
   "id": "06b8dc6a-8e58-4d44-8b6d-46d60cb52d23",
   "metadata": {},
   "source": [
    "* Visualize the decision tree\n",
    "* Looking at the tree, list the most important attributes"
   ]
  },
  {
   "cell_type": "markdown",
   "id": "73013817-c8ed-4148-93f8-0d4b89c4f0fa",
   "metadata": {},
   "source": [
    "### Classifier 2 - random forest"
   ]
  },
  {
   "cell_type": "markdown",
   "id": "affa289a-a6c5-4e49-bdf1-cc0944396eba",
   "metadata": {},
   "source": [
    "* Show the feature importance of variables in the forest"
   ]
  },
  {
   "cell_type": "markdown",
   "id": "23f3ce2f-60b4-4471-9866-41e7bb4db0cf",
   "metadata": {},
   "source": [
    "## Local explanation"
   ]
  },
  {
   "cell_type": "markdown",
   "id": "c71c9a97-1f6c-4a80-9b50-2f50ca3d9d49",
   "metadata": {},
   "source": [
    "* Show the *instance of interest* - a row in the dataframe\n",
    "* Use both models to classify the chosen instance\n",
    "* Do both models assign the same class?\n",
    "* What is the confidence (probability) of the prediction?\n",
    "* If you change the value of the attribute of interest in the instance of interest, how does the classification of the instance change? "
   ]
  },
  {
   "cell_type": "markdown",
   "id": "e5be3b7f-9ddb-461e-b605-58e91e8c3505",
   "metadata": {},
   "source": [
    "# Conclusion\n",
    "Summarize the results, answering questions such as:"
   ]
  },
  {
   "cell_type": "markdown",
   "id": "2bdcc20d-2016-4114-a8db-5835ac1a9ccb",
   "metadata": {},
   "source": [
    "1.\tWhich machine learning result has the highest value and is most interesting? \n",
    "2.\tWhat setting provided the best result? \n",
    "3.\tWhich attributes are the most important?\n"
   ]
  },
  {
   "cell_type": "markdown",
   "id": "3a608e79-6f5f-4b54-8f32-08449733f98f",
   "metadata": {},
   "source": [
    "# Optional parts"
   ]
  },
  {
   "cell_type": "markdown",
   "id": "b6ef2d92-a0eb-4a51-ae91-90a0478970b5",
   "metadata": {},
   "source": [
    "## Evaluation "
   ]
  },
  {
   "cell_type": "markdown",
   "id": "00c1240f-6bf6-4fbb-82ed-beafc37e43b9",
   "metadata": {},
   "source": [
    "## Ablation study\n",
    "* Classification: Quantify the effect of individual preprocessing steps (such as rescaling). How would the performance change if you have not performed this step.\n",
    "* Clustering: Try clustering with and without feature selection in the data preprocessing stage. Compare the results. What would be the impact on the result based on the Rand Index?"
   ]
  },
  {
   "cell_type": "markdown",
   "id": "baf0e8df-03db-41b9-b747-966fb7dcaf10",
   "metadata": {},
   "source": [
    "###  Optimization of threshold (optional)"
   ]
  },
  {
   "cell_type": "markdown",
   "id": "97ea8e4e-420a-424b-96e2-9f1a2e064020",
   "metadata": {},
   "source": [
    "* If you would change the probability (score) threshold for classification, would you obtain better results in terms of total costs? For which threshold? "
   ]
  },
  {
   "cell_type": "markdown",
   "id": "b4be41f6-32cd-40aa-856c-65aef08874a3",
   "metadata": {},
   "source": [
    "## Explanation"
   ]
  },
  {
   "cell_type": "markdown",
   "id": "538fcba7-8c21-4471-b427-6197cf8fe0a7",
   "metadata": {},
   "source": [
    "*\tApply ICE/IME/SHAPLEY/Anchors to explain the classification of the instance"
   ]
  },
  {
   "cell_type": "markdown",
   "id": "324f57b9-5af2-4e00-9858-17db6926f4e8",
   "metadata": {},
   "source": [
    "# Final checklist"
   ]
  },
  {
   "cell_type": "markdown",
   "id": "1474e4f1-768c-4d80-ba33-08816541771d",
   "metadata": {},
   "source": [
    "-\tAre all preprocessing steps justified?\n",
    "-\tDid you try different metaparameter values where appropriate?\n",
    "-\tAre the results replicable? If you have the same data, does the report describe all steps in sufficient detail to obtain the same results as reported by the authors?\n",
    "-\tWere proper evaluation metrics selected? Are the results correctly interpreted?\n",
    "-\tAre all important steps explained and justified?\n",
    "-\tWhat is the quality of writing? Is the language clear and concise?\n"
   ]
  },
  {
   "cell_type": "markdown",
   "id": "6de5dfdf-e4c5-47c3-a6e4-47ef3f337f38",
   "metadata": {},
   "source": [
    "# Submission"
   ]
  },
  {
   "cell_type": "markdown",
   "id": "338499a9-f879-4742-8bc2-ddc3ef4aedd7",
   "metadata": {},
   "source": [
    "* This .ipynb file with your code + its html version after the code was run (File-Save and export notebook as - html)\n",
    "* Source data or a link to source data or source data being loaded from a url in the notebook\n",
    "* Data files after preprorcessing (train.csv and test.csv)"
   ]
  }
 ],
 "metadata": {
  "kernelspec": {
   "display_name": "Python 3 (ipykernel)",
   "language": "python",
   "name": "python3"
  },
  "language_info": {
   "codemirror_mode": {
    "name": "ipython",
    "version": 3
   },
   "file_extension": ".py",
   "mimetype": "text/x-python",
   "name": "python",
   "nbconvert_exporter": "python",
   "pygments_lexer": "ipython3",
   "version": "3.10.10"
  }
 },
 "nbformat": 4,
 "nbformat_minor": 5
}
